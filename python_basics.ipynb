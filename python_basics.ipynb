{
 "cells": [
  {
   "cell_type": "markdown",
   "id": "923a2839",
   "metadata": {},
   "source": [
    "[![Open In Colab](https://colab.research.google.com/assets/colab-badge.svg)](https://colab.research.google.com/github/zero-to-mastery/Complete-Python-Developer-Manual/blob/main/python_basics.ipynb)"
   "id": "a223de83",
   "metadata": {},
   "source": [
    "To get the most out of this course, follow along with Andrei and code along with the videos. The course will go over how to install Python on your computer later. To start, you can use Python in [Repl.it](https://replit.com/)"
   ]
  },
  {
   "cell_type": "markdown",
   "id": "6a723c1e",
   "metadata": {},
   "source": [
    "# Complete Python Developer: Zero to Mastery - Python Basics\n",
    "\n",
    "## Table of Contents\n",
    "\n",
    "* [Learning Python](#learning-python)\n",
    "* [Python Data Types](#python-data-types)\n",
    "* [How to Succeed](#how-to-succeed)\n",
    "* [Numbers](#numbers)\n",
    "* [Math Functions](#math-functions)\n",
    "* [DEVELOPER FUNDAMENTALS I](#developer-fundamentals-i)\n",
    "* [Operator Precedence](#operator-precedence)\n",
    "* [Bin and Complex](#bin-and-complex)\n",
    "* [Variables](#variables)\n",
    "* [Expressions vs. Statements](#expressions-vs-statements)\n",
    "* [Augmented Assignment Operator](#augmented-assignment-operator)\n",
    "* [Strings (`str`)](#strings-str)\n",
    "* [String Concatenation](#string-concatenation)\n",
    "* [Type Conversion](#type-conversion)\n",
    "* [Escape Sequence](#escape-sequence)\n",
    "* [Formatted Strings](#formatted-strings)\n",
    "* [String Indexes](#string-indexes)\n",
    "* [Immutability](#immutability)\n",
    "* [Built-In Functions and Methods](#built-in-functions-and-methods)\n",
    "* [Booleans](#booleans)\n",
    "* [DEVELOPER FUNDAMENTALS II](#developer-fundamentals-ii)"
   ]
  },
  {
   "cell_type": "markdown",
   "id": "dbdd5340",
   "metadata": {},
   "source": [
    "## Learning Python\n",
    "There are four key things you need to master for learning a programming language, including Python:\n",
    "1. Terms: things like statements, variables, etc. so you can talk to other programmers\n",
    "2. Data types: values a program can hold to store information\n",
    "3. Actions - programming is a way to tell our machines how to store and retrieve data and perform actions on that data\n",
    "4. Best practices - we need to learn the good ways to write programs with a solid structure"
   ]
  },
  {
   "cell_type": "markdown",
   "id": "f8e6be39",
   "metadata": {},
   "source": [
    "## Python Data Types\n",
    "We will use [repl.it](https://replit.com/) to write our first Python code so we don't have to worry about installation at first.\n",
    "\n",
    "Python has several data types. We'll list them out and then discuss them individually. Notice that the REPL will highlight these data types, which clues us in that there is something special about them.\n",
    "\n",
    "A data type represents a value in Python, and writing a program allows us to take actions on these data types. Examples of actions include creating, changing/manipulating, storing, and removing data types.\n",
    "\n",
    "Python Data Types:\n",
    "- `int`: integer (a whole number)\n",
    "- `float`: floating point number\n",
    "- `bool`: boolean\n",
    "- `str`: string\n",
    "- `list`\n",
    "- `tuple`\n",
    "- `set`\n",
    "- `dict`\n",
    "- `None`: the absence of value\n",
    "\n",
    "We can also create our own custom data types using something called classes. We'll explore how to do this later in the course.\n",
    "\n",
    "We also have specialized data types. They are special packages and modules we can use from libraries. They're a little something extra, an extension, beyond a standard Python data type."
   ]
  },
  {
   "cell_type": "markdown",
   "id": "c1ec26da",
   "metadata": {},
   "source": [
    "## How to Succeed\n",
    "\n",
    "In order to get the most out of this course, please code along with Andrei throughout the next sections. Hands-on practice is the best way to develop your skills."
   ]
  },
  {
   "cell_type": "markdown",
   "id": "63ab0f8a",
   "metadata": {},
   "source": [
    "## Numbers\n",
    "\n",
    "This lecture will cover two data types: int and float. An integer is a number, such as 3, 4, or 5. We can use integers to perform mathematical operations in a program. The following code prints new numbers based on the mathematical operations we're performing on two whole numbers numbers.\n",
    "\n",
    "A float is a floating point number, or a number with a decimal point, such as 0.5. We need to make this distinction because a float takes up more space in memory compared to an integer on our machines. Adding an integer and a float will result in a float as will adding two floats together, even if the result is a whole number. For more information on floating point numbers, check out this [Floating Point Numbers video](https://www.youtube.com/watch?v=PZRI1IfStY0).\n",
    "\n",
    "If the syntax is intimidated, don't worry! As we work with these concepts more, it will become more familiar. And, if you're ever confused about a Python data type or anything else that has to do with the language, you can learn more about it in the [Python documentation](https://docs.python.org/3/contents.html)."
   ]
  },
  {
   "cell_type": "code",
   "execution_count": 14,
   "id": "5c7188ad",
   "metadata": {},
   "outputs": [
    {
     "name": "stdout",
     "output_type": "stream",
     "text": [
      "6\n",
      "-2\n",
      "8\n",
      "0.5\n",
      "8\n",
      "0\n",
      "1\n",
      "2\n",
      "<class 'int'>\n",
      "<class 'float'>\n",
      "<class 'float'>\n",
      "<class 'float'>\n",
      "<class 'float'>\n",
      "<class 'int'>\n"
     ]
    }
   ],
   "source": [
    "print(2 + 4) # addition - result is 6\n",
    "print(2 - 4) # subtraction - result is -2\n",
    "print(2 * 4) # multiplication - result is 8\n",
    "print(2 / 4) # division - result is 0.5\n",
    "print(2 ** 3) # exponent - 2 to the 3rd power is 8\n",
    "print(3 // 4) # double division returns an integer, rounded down to an integer - result is 0\n",
    "print(5 // 4) # result is 1\n",
    "# The modulo operator represents the remainder of division. 6 divided by 4 is 1 with a remainder of two.\n",
    "print(6 % 4)\n",
    "# type is another action we can perform to check a data type. Content in inner brackets is evaluated first\n",
    "print(type(2 + 4)) # integer\n",
    "print(type(2 / 4)) # float\n",
    "print(type(5.001)) # float\n",
    "print(type(10 + 1.1)) # float\n",
    "print(type(9.9 + 1.1)) # float\n",
    "print(type(0)) # integer"
   ]
  },
  {
   "cell_type": "markdown",
   "id": "e5bf3c30",
   "metadata": {},
   "source": [
    "## Math Functions"
   ]
  },
  {
   "cell_type": "markdown",
   "id": "c7c7f051",
   "metadata": {},
   "source": [
    "There are specific math functions built into Python that we can use on integers and floating point numbers. Functions are actions we can take on data, such as `print()` and `type()`. Try the following out in your REPL.\n",
    "\n",
    "See this article on [Python Mathematical Functions](https://www.programiz.com/python-programming/modules/math) for more and try Googling for Python math functions as well. Also, keep in mind that you'll never need all of the math functions in Python. We'll go over some of the important once in this course."
   ]
  },
  {
   "cell_type": "code",
   "execution_count": 1,
   "id": "5a569317",
   "metadata": {},
   "outputs": [
    {
     "name": "stdout",
     "output_type": "stream",
     "text": [
      "3\n",
      "4\n",
      "20\n"
     ]
    }
   ],
   "source": [
    "print(round(3.1)) # rounding down the number - result is 3\n",
    "print(round(3.9)) # result is 4\n",
    "print(abs(-20)) # returns absolute value of the argument (no negative numbers)"
   ]
  },
  {
   "cell_type": "markdown",
   "id": "80f5cdd7",
   "metadata": {},
   "source": [
    "## DEVELOPER FUNDAMENTALS I\n",
    "Developer fundamentals will be sprinkled throughout the course and will go over common mistakes in the hopes that we can avoid them as well as tips on how to be a great Python developer.\n",
    "\n",
    "The first developer fundamental is: Don't read the dictionary. This means, don't worry about every little thing. Look up what we need to in the documentation, but don't try to read or memorize everything. Make sure you understand what exists, what you can use, and learn how to write good Google queries to find the information we need. This ensures we're focusing on the things that actually matter."
   ]
  },
  {
   "cell_type": "markdown",
   "id": "bf33aee2",
   "metadata": {},
   "source": [
    "## Operator Precedence\n",
    "Different operators have precedence over others, like multiplication gets evaluated before addition. \n",
    "\n",
    "Whatever is wrapped in parentheses gets evaluated first. Exponents get evaluated next, then multiplication and division, and finally, addition and subtraction.\n",
    "\n",
    "Try these out in your REPL along with the exercises in the following lecture."
   ]
  },
  {
   "cell_type": "code",
   "execution_count": 24,
   "id": "39abbccb",
   "metadata": {
    "scrolled": true
   },
   "outputs": [
    {
     "name": "stdout",
     "output_type": "stream",
     "text": [
      "8\n",
      "21\n"
     ]
    }
   ],
   "source": [
    "print(20 - 3 * 4) # 3 * 4 gets evaluated before 20 - 3 - result is 8\n",
    "print((20 - 3) + 2 ** 2) # result is 21"
   ]
  },
  {
   "cell_type": "markdown",
   "id": "7dbdee3f",
   "metadata": {},
   "source": [
    "## Bin and Complex\n",
    "There is an extra data type we didn't discuss. It's called complex and is a third type of number. We won't focus on it because it's only significant if we're doing complicated math.\n",
    "\n",
    "Integers and floats get stored as binary numbers. There is an action called `bin` that we can use to return a binary representation of an integer."
   ]
  },
  {
   "cell_type": "code",
   "execution_count": 32,
   "id": "1875edd5",
   "metadata": {
    "scrolled": true
   },
   "outputs": [
    {
     "name": "stdout",
     "output_type": "stream",
     "text": [
      "0b101\n",
      "0b1000\n",
      "5\n"
     ]
    }
   ],
   "source": [
    "print(bin(5)) # binary number for 5 is 101\n",
    "print(bin(8))\n",
    "print(int('0b101', 2)) # convert this base 2 binary number to an integer"
   ]
  },
  {
   "cell_type": "markdown",
   "id": "f957de12",
   "metadata": {},
   "source": [
    "## Variables\n",
    "All programming languages have variables so that we can store information. Assigning a value is also known as binding. The number below is stored as a binary representation (zeros and ones).\n",
    "\n",
    "The following are best practices to use when writing Python variables:\n",
    "* They should be snake_case\n",
    "* Start with lowercase or underscore\n",
    "* Use letters, numbers, or underscores\n",
    "* They are case-sensitive\n",
    "* Don't overwrite keywords\n",
    "* Make variable names descriptive\n",
    "\n",
    "Other things to be aware of:\n",
    "* Constants should be in capitals, i.e., `PI = 3.14`\n",
    "* There are dunder variables that start with two underscores that should not be assigned\n",
    "* Underscore in Python singnifies a private variable (`_user_iq`)"
   ]
  },
  {
   "cell_type": "code",
   "execution_count": 2,
   "id": "86e4a263",
   "metadata": {},
   "outputs": [
    {
     "name": "stdout",
     "output_type": "stream",
     "text": [
      "47.5\n"
     ]
    }
   ],
   "source": [
    "user_iq = 190\n",
    "user_age = user_iq / 4\n",
    "print(user_age)"
   ]
  },
  {
   "cell_type": "code",
   "execution_count": 3,
   "id": "f86b84e0",
   "metadata": {
    "scrolled": true
   },
   "outputs": [
    {
     "name": "stdout",
     "output_type": "stream",
     "text": [
      "2\n"
     ]
    }
   ],
   "source": [
    "a, b, c = 1, 2, 3\n",
    "print(b)"
   ]
  },
  {
   "cell_type": "markdown",
   "id": "02dfa7a3",
   "metadata": {},
   "source": [
    "## Expressions vs. Statements\n",
    "An expression is the right side of a statement. A statement is an entire line of code that performs some sort of action.\n",
    "\n",
    "As in the previous example, `user_iq / 4` is an expression. `user_age = user_iq / 4` and `user_iq = 190` are statements."
   ]
  },
  {
   "cell_type": "markdown",
   "id": "06d8700f",
   "metadata": {},
   "source": [
    "## Augmented Assignment Operator\n",
    "In the example below, `some_value += 2` makes use of the augmented assignment operator."
   ]
  },
  {
   "cell_type": "code",
   "execution_count": 33,
   "id": "579c4e4a",
   "metadata": {},
   "outputs": [],
   "source": [
    "some_value = 5\n",
    "some_value += 2"
   ]
  },
  {
   "cell_type": "markdown",
   "id": "f5023e0e",
   "metadata": {},
   "source": [
    "## Strings (str)\n",
    "A string is a piece of text and can be encapsulated in single or double quotes."
   ]
  },
  {
   "cell_type": "code",
   "execution_count": 3,
   "id": "ad9535fb",
   "metadata": {},
   "outputs": [
    {
     "name": "stdout",
     "output_type": "stream",
     "text": [
      "<class 'str'>\n"
     ]
    }
   ],
   "source": [
    "print(type('hellooooo'))"
   ]
  },
  {
   "cell_type": "code",
   "execution_count": 8,
   "id": "abf5ab83",
   "metadata": {},
   "outputs": [],
   "source": [
    "username = 'supercoder'\n",
    "password = 'supersecret'\n",
    "long_string = '''\n",
    "WOW\n",
    " 00\n",
    "---\n",
    "'''"
   ]
  },
  {
   "cell_type": "code",
   "execution_count": 9,
   "id": "65e6a13e",
   "metadata": {},
   "outputs": [
    {
     "name": "stdout",
     "output_type": "stream",
     "text": [
      "\n",
      "WOW\n",
      " 00\n",
      "---\n",
      "\n"
     ]
    }
   ],
   "source": [
    "print(long_string)"
   ]
  },
  {
   "cell_type": "markdown",
   "id": "f11ce78a",
   "metadata": {},
   "source": [
    "## String Concatenation\n",
    "String concatenation is simply adding strings together. This only works with strings in Python. If we added the number 5 + hello, we would get a TypeError"
   ]
  },
  {
   "cell_type": "code",
   "execution_count": 37,
   "id": "360bec82",
   "metadata": {},
   "outputs": [
    {
     "name": "stdout",
     "output_type": "stream",
     "text": [
      "hellooooo Andrei\n"
     ]
    }
   ],
   "source": [
    "print('hellooooo' + ' Andrei')"
   ]
  },
  {
   "cell_type": "markdown",
   "id": "0367f71a",
   "metadata": {},
   "source": [
    "## Type Conversion\n",
    "With Python, we can convert one data type to another. For instance, we can convert a string to an integer."
   ]
  },
  {
   "cell_type": "code",
   "execution_count": 11,
   "id": "f0ad0c1a",
   "metadata": {},
   "outputs": [
    {
     "name": "stdout",
     "output_type": "stream",
     "text": [
      "<class 'str'>\n"
     ]
    }
   ],
   "source": [
    "print(type(str(100)))"
   ]
  },
  {
   "cell_type": "code",
   "execution_count": 12,
   "id": "7c20a0b0",
   "metadata": {},
   "outputs": [
    {
     "name": "stdout",
     "output_type": "stream",
     "text": [
      "<class 'int'>\n"
     ]
    }
   ],
   "source": [
    "print(type(int(str(100))))"
   ]
  },
  {
   "cell_type": "markdown",
   "id": "cff587dd",
   "metadata": {},
   "source": [
    "## Escape Sequence\n",
    "The following are escape sequences -- a backslash -- that allows us to interpret whatever comes after it as a string."
   ]
  },
  {
   "cell_type": "code",
   "execution_count": 14,
   "id": "ad66d0fa",
   "metadata": {},
   "outputs": [
    {
     "name": "stdout",
     "output_type": "stream",
     "text": [
      "It's kind of sunny\n"
     ]
    }
   ],
   "source": [
    "weather = 'It\\'s kind of sunny'\n",
    "print(weather)"
   ]
  },
  {
   "cell_type": "code",
   "execution_count": 15,
   "id": "e235b9df",
   "metadata": {},
   "outputs": [
    {
     "name": "stdout",
     "output_type": "stream",
     "text": [
      "\t weather\n"
     ]
    }
   ],
   "source": [
    "print('\\t weather')"
   ]
  },
  {
   "cell_type": "code",
   "execution_count": 17,
   "id": "0b7c9d83",
   "metadata": {},
   "outputs": [
    {
     "name": "stdout",
     "output_type": "stream",
     "text": [
      "--\n",
      "Hope you have a good day\n"
     ]
    }
   ],
   "source": [
    "print('--\\nHope you have a good day')"
   ]
  },
  {
   "cell_type": "markdown",
   "id": "166d1d2e",
   "metadata": {},
   "source": [
    "## Formatted Strings\n",
    "Formatted strings allow us to use strings in a dynamic way instead of hard-coding everything. This is important when we are writing programs to work with users and with databases.\n",
    "\n",
    "In general, the formatted string is recommended now (f-string) versus .format. Try the exercises below in your own REPL."
   ]
  },
  {
   "cell_type": "code",
   "execution_count": 41,
   "id": "784d1e22",
   "metadata": {},
   "outputs": [
    {
     "name": "stdout",
     "output_type": "stream",
     "text": [
      "Hi, Johnny\n",
      "Hi Johnny. You are 55 years old.\n",
      "Hi Johnny. You are 55 years old.\n",
      "Hi Johnny. You are 55 years old.\n"
     ]
    }
   ],
   "source": [
    "name = 'Johnny'\n",
    "age = 55\n",
    "print(\"Hi, \" + name)\n",
    "print(f\"Hi {name}. You are {age} years old.\") # preferred\n",
    "print(\"Hi {}. You are {} years old.\".format(name, age)) # python2 syntax\n",
    "print(\"Hi {0}. You are {1} years old.\".format(name, age))"
   ]
  },
  {
   "cell_type": "markdown",
   "id": "192149dc",
   "metadata": {},
   "source": [
    "## String Indexes\n",
    "`str` is an ordered sequence of characters that are stored in memory in same order and can be accessed by indices."
   ]
  },
  {
   "cell_type": "code",
   "execution_count": 44,
   "id": "a0a399cd",
   "metadata": {},
   "outputs": [
    {
     "name": "stdout",
     "output_type": "stream",
     "text": [
      "A\n",
      "An\n",
      "Ad\n",
      "ndrei\n",
      "And\n",
      "Ade\n",
      "Andrei\n",
      "e\n",
      "ierdnA\n"
     ]
    }
   ],
   "source": [
    "name = \"Andrei\"\n",
    "print(name[0])\n",
    "print(name[0:2])\n",
    "print(name[0:4:2])\n",
    "print(name[1:])\n",
    "print(name[:3])\n",
    "print(name[::2])\n",
    "print(name[::1])\n",
    "print(name[-2])\n",
    "print(name[::-1]) # reverse a string"
   ]
  },
  {
   "cell_type": "markdown",
   "id": "ceeff2b6",
   "metadata": {},
   "source": [
    "## Immutability\n",
    "Strings are immutable in Python. If we reassign a string in Python, it will overwrite the original string.\n",
    "`[start:stop:step]` is string slicing."
   ]
  },
  {
   "cell_type": "markdown",
   "id": "aacac8f9",
   "metadata": {},
   "source": [
    "## Built-In Functions and Methods\n",
    "We have been learning about built-in functions that Python can take on data, such as `str()`, `int()`, `type()`, `print()`, and `float()`. Some resources for built-in functions are [Python String Methods](https://www.w3schools.com/python/python_ref_string.asp) [Built-in Functions](https://docs.python.org/3/library/functions.html)\n"
   ]
  },
  {
   "cell_type": "code",
   "execution_count": 2,
   "id": "04d68a5e",
   "metadata": {},
   "outputs": [
    {
     "name": "stdout",
     "output_type": "stream",
     "text": [
      "9\n"
     ]
    }
   ],
   "source": [
    "print(len(\"hellooooo\"))"
   ]
  },
  {
   "cell_type": "code",
   "execution_count": 5,
   "id": "165b7ad5",
   "metadata": {},
   "outputs": [
    {
     "name": "stdout",
     "output_type": "stream",
     "text": [
      "hellooooo\n",
      "hellooooo\n"
     ]
    }
   ],
   "source": [
    "greet = \"hellooooo\"\n",
    "print(greet[:])\n",
    "print(greet[0:len(greet)])"
   ]
  },
  {
   "cell_type": "markdown",
   "id": "1a8d9daf",
   "metadata": {},
   "source": [
    "A good code editor will show available methods after we add dot notation."
   ]
  },
  {
   "cell_type": "code",
   "execution_count": 13,
   "id": "8010d6cf",
   "metadata": {},
   "outputs": [
    {
     "name": "stdout",
     "output_type": "stream",
     "text": [
      "TO BE OR NOT TO BE\n",
      "To be or not to be\n",
      "3\n",
      "to me or not to me\n",
      "to be or not to be\n"
     ]
    }
   ],
   "source": [
    "quote = \"to be or not to be\"\n",
    "print(quote.upper())\n",
    "print(quote.capitalize())\n",
    "print(quote.find('be')) # index of the word 'be'\n",
    "print(quote.replace('be', 'me')) # replace all occurances of 'be' with 'me'\n",
    "print(quote) # after the code above prints, it is removed from memory. The original string is not modified"
   ]
  },
  {
   "cell_type": "markdown",
   "id": "d595c60c",
   "metadata": {},
   "source": [
    "## Booleans\n",
    "A boolean can either be set to true or false. We can use them to control the flow of our program."
   ]
  },
  {
   "cell_type": "code",
   "execution_count": 15,
   "id": "b7da5b70",
   "metadata": {},
   "outputs": [
    {
     "name": "stdout",
     "output_type": "stream",
     "text": [
      "True\n"
     ]
    }
   ],
   "source": [
    "name = \"Andrei\"\n",
    "isCool = True\n",
    "print(isCool)"
   ]
  },
  {
   "cell_type": "code",
   "execution_count": 17,
   "id": "9ccd30b0",
   "metadata": {},
   "outputs": [
    {
     "name": "stdout",
     "output_type": "stream",
     "text": [
      "True\n",
      "False\n"
     ]
    }
   ],
   "source": [
    "# convert integers into boolean values\n",
    "print(bool(1))\n",
    "print(bool(0))"
   ]
  },
  {
   "cell_type": "markdown",
   "id": "9f433135",
   "metadata": {},
   "source": [
    "## DEVELOPER FUNDAMENTALS II\n",
    "As soon as Python sees a `#`, it adds a comment.\n",
    "\n",
    "Guidelines for comments:\n",
    "* When you comment your code, you're adding valuable content to help another programmer or yourself when you review it later.\n",
    "* Add comments to explain complexity rather than for everything."
   ]
  },
  {
   "cell_type": "markdown",
   "id": "842f460c",
   "metadata": {},
   "source": [
    "## Lists\n",
    "A list is an ordered sequence of objects that can be of any type. We denote lists with square brackets. We can have different objects inside of these square brackets.\n",
    "\n",
    "If you're familiar with other programming languages, you might have heard of arrays. Lists are similar, but we'll talk about the differences later in the course.\n",
    "\n",
    "In Python, we can have lists with mixed data types, as with li3 below.\n",
    "\n",
    "The list is the first data structure we're learning. Data structures are ways for us to organize information in a program. Think of them as a container around our data with different pros and cons."
   ]
  },
  {
   "cell_type": "code",
   "execution_count": 1,
   "id": "4f8c66f4",
   "metadata": {},
   "outputs": [],
   "source": [
    "li = [1, 2, 3, 4, 5]\n",
    "li2 = ['a', 'b', 'c']\n",
    "li3 = [1, 2, 'a', True, 1.67]"
   ]
  },
  {
   "cell_type": "markdown",
   "id": "68c892d9",
   "metadata": {},
   "source": [
    "We can access items in a list similar to how we accessed characters in a string. If we try to access a third item in the list below, we'll get a \"list index out of range\" error since a third item doesn't exist."
   ]
  },
  {
   "cell_type": "code",
   "execution_count": 3,
   "id": "5130a1b8",
   "metadata": {},
   "outputs": [
    {
     "name": "stdout",
     "output_type": "stream",
     "text": [
      "notebooks\n",
      "sunglasses\n"
     ]
    }
   ],
   "source": [
    "amazon_cart = ['notebooks', 'sunglasses']\n",
    "print(amazon_cart[0])\n",
    "print(amazon_cart[1])"
   ]
  },
  {
   "cell_type": "markdown",
   "id": "9f9dd49c",
   "metadata": {},
   "source": [
    "## List Slicing\n",
    "We saw square brackets earlier, when we were working with strings. We can use list slicing as we did with string slicing earlier in the course.\n",
    "\n",
    "Unlike strings, lists are mutuable. We can change our amazon_cart."
   ]
  },
  {
   "cell_type": "code",
   "execution_count": 12,
   "id": "bd240859",
   "metadata": {},
   "outputs": [
    {
     "name": "stdout",
     "output_type": "stream",
     "text": [
      "['notebooks', 'sunglasses', 'toys', 'grapes']\n",
      "['notebooks', 'sunglasses']\n",
      "['notebooks', 'toys']\n"
     ]
    }
   ],
   "source": [
    "amazon_cart2 = ['notebooks', 'sunglasses', 'toys', 'grapes']\n",
    "print(amazon_cart2)\n",
    "# Remember: with slicing, the second number is NOT inclusive\n",
    "print(amazon_cart2[0:2]) # get first two items in the cart\n",
    "print(amazon_cart2[0::2])"
   ]
  },
  {
   "cell_type": "code",
   "execution_count": 17,
   "id": "5eaac74e",
   "metadata": {},
   "outputs": [
    {
     "name": "stdout",
     "output_type": "stream",
     "text": [
      "['laptop', 'sunglasses', 'toys', 'grapes']\n",
      "['laptop', 'sunglasses', 'toys']\n"
     ]
    }
   ],
   "source": [
    "# Let's change our list!\n",
    "amazon_cart2[0] = \"laptop\"\n",
    "print(amazon_cart2)\n",
    "print(amazon_cart2[0:3]) # get item 1 - 3, not including 3"
   ]
  },
  {
   "cell_type": "markdown",
   "id": "f556684a",
   "metadata": {},
   "source": [
    "Every time we slice a list, we create a new copy of our list. But, if we set our list equal to another list, if we modify the new list, we'll modify our old list as well.\n",
    "\n",
    "This happens because we're setting the lists equal to one another, and they're pointing to the same place in memory. This is different than when we slice a list because slicing makes a copy whereas when we set two lists equal to one another, we're creating conditions under which both lists will be modified."
   ]
  },
  {
   "cell_type": "code",
   "execution_count": 20,
   "id": "a759e18f",
   "metadata": {},
   "outputs": [
    {
     "name": "stdout",
     "output_type": "stream",
     "text": [
      "['gum', 'sunglasses', 'toys', 'grapes']\n",
      "['gum', 'sunglasses', 'toys', 'grapes']\n"
     ]
    }
   ],
   "source": [
    "new_cart = amazon_cart2\n",
    "new_cart[0] = 'gum'\n",
    "print(amazon_cart2)\n",
    "print(new_cart)"
   ]
  },
  {
   "cell_type": "markdown",
   "id": "387a868a",
   "metadata": {},
   "source": [
    "## Matrix\n",
    "A matrix is a way to describe multi-dimensional lists. It's a list with another list inside of it. We have a list with sub lists. These topics come up a lot in machine learning and image processing. Matrices allow us to do some heavy calculations under the hood."
   ]
  },
  {
   "cell_type": "code",
   "execution_count": 26,
   "id": "6819a831",
   "metadata": {},
   "outputs": [
    {
     "name": "stdout",
     "output_type": "stream",
     "text": [
      "2\n",
      "8\n",
      "6\n"
     ]
    }
   ],
   "source": [
    "matrix = [[1, 2, 3], [4, 5, 6], [7, 8, 9]]\n",
    "print(matrix[0][1]) # print second item in the first list\n",
    "print(matrix[2][1]) # print the second item in the last list\n",
    "print(matrix[1][2]) # print the last item in the second list"
   ]
  },
  {
   "cell_type": "markdown",
   "id": "dd2c2cd0",
   "metadata": {},
   "source": [
    "## List Methods\n",
    "We can perform a number of actions on lists with list methods. See the [W3Schools Resource](https://www.w3schools.com/python/python_ref_list.asp) for more Python list methods.\n",
    "\n",
    "Try out the examples below. And remember, if you're using [replit.com](https://replit.com/), as soon as you write the variable plus the dot, the conding environment will tell you which methods you can use."
   ]
  },
  {
   "cell_type": "code",
   "execution_count": 58,
   "id": "b95debee",
   "metadata": {
    "scrolled": true
   },
   "outputs": [
    {
     "name": "stdout",
     "output_type": "stream",
     "text": [
      "5\n"
     ]
    }
   ],
   "source": [
    "basket = [1, 2, 3, 4, 5]\n",
    "# Remember, the length starts counting from one, not zero\n",
    "print(len(basket)) # calculate the length of the basket"
   ]
  },
  {
   "cell_type": "markdown",
   "id": "272101a4",
   "metadata": {},
   "source": [
    "The append, insert, and extends methods modify an existing list in place (in memory). They don't create a copy of the list that they modify.\n",
    "\n",
    "The extends method takes an item we can iterate over, like a list, and modifies it."
   ]
  },
  {
   "cell_type": "code",
   "execution_count": 36,
   "id": "f19a7cae",
   "metadata": {},
   "outputs": [
    {
     "name": "stdout",
     "output_type": "stream",
     "text": [
      "[1, 2, 3, 4, 5]\n",
      "[1, 2, 3, 4, 5, 100]\n",
      "[1, 2, 3, 4, 5, 100]\n"
     ]
    }
   ],
   "source": [
    "# adding items to a list\n",
    "print(basket)\n",
    "basket.append(100)\n",
    "new_list = basket\n",
    "print(basket)\n",
    "print(new_list)"
   ]
  },
  {
   "cell_type": "code",
   "execution_count": 37,
   "id": "44beeacf",
   "metadata": {},
   "outputs": [
    {
     "name": "stdout",
     "output_type": "stream",
     "text": [
      "[1, 2, 3, 4, 50, 5, 100]\n"
     ]
    }
   ],
   "source": [
    "# insert an item into a list\n",
    "basket.insert(4, 50)\n",
    "print(basket)"
   ]
  },
  {
   "cell_type": "code",
   "execution_count": 40,
   "id": "d5eb071d",
   "metadata": {},
   "outputs": [
    {
     "name": "stdout",
     "output_type": "stream",
     "text": [
      "[1, 2, 3, 4, 50, 5, 100, 101, 101]\n"
     ]
    }
   ],
   "source": [
    "# extending our list\n",
    "# 101 is added twice because this cell was printed more than once\n",
    "new_list = basket.extend([101])\n",
    "print(basket)"
   ]
  },
  {
   "cell_type": "code",
   "execution_count": 41,
   "id": "804e798a",
   "metadata": {},
   "outputs": [
    {
     "name": "stdout",
     "output_type": "stream",
     "text": [
      "[1, 2, 3, 4, 50, 5, 100, 101]\n"
     ]
    }
   ],
   "source": [
    "# removing items from our list\n",
    "basket.pop() # removes last item from the list\n",
    "print(basket)"
   ]
  },
  {
   "cell_type": "markdown",
   "id": "e1559fea",
   "metadata": {},
   "source": [
    "With pop, we give it the index and with remove, we give it the value. Pop also returns the value that was removed. The clear method removes everything from the list."
   ]
  },
  {
   "cell_type": "code",
   "execution_count": 42,
   "id": "5dc77777",
   "metadata": {},
   "outputs": [],
   "source": [
    "basket.pop()\n",
    "basket.pop(0) # remove item at index 0\n",
    "basket.remove(4) # remove 4 from the list"
   ]
  },
  {
   "cell_type": "code",
   "execution_count": 43,
   "id": "564ce88d",
   "metadata": {},
   "outputs": [
    {
     "name": "stdout",
     "output_type": "stream",
     "text": [
      "[2, 3, 50, 5, 100]\n"
     ]
    }
   ],
   "source": [
    "print(basket)"
   ]
  },
  {
   "cell_type": "code",
   "execution_count": 44,
   "id": "cfecff2c",
   "metadata": {},
   "outputs": [
    {
     "name": "stdout",
     "output_type": "stream",
     "text": [
      "[]\n"
     ]
    }
   ],
   "source": [
    "# remove all items from the list\n",
    "basket.clear()\n",
    "print(basket)"
   ]
  },
  {
   "cell_type": "markdown",
   "id": "c5268a48",
   "metadata": {},
   "source": [
    "## List Methods 2\n",
    "Index is a list method we can use. We give it a value, a start, and a stop.\n",
    "\n",
    "A Python keyword is a word that means something to the language that we cannot use to name a variable. Examples are True (a boolean) or in. We can use 'in' to see if something is in a list.\n",
    "\n",
    "We can use 'count' to count how many times an item occurs."
   ]
  },
  {
   "cell_type": "code",
   "execution_count": 61,
   "id": "95b42394",
   "metadata": {},
   "outputs": [
    {
     "name": "stdout",
     "output_type": "stream",
     "text": [
      "3\n",
      "3\n"
     ]
    }
   ],
   "source": [
    "basket = ['a', 'b', 'c', 'd', 'e']\n",
    "print(basket.index('d'))\n",
    "print(basket.index('d', 0, 4)) # item to search for, index to start search, index to stop search"
   ]
  },
  {
   "cell_type": "code",
   "execution_count": 62,
   "id": "4fcb6cd0",
   "metadata": {},
   "outputs": [
    {
     "name": "stdout",
     "output_type": "stream",
     "text": [
      "True\n",
      "False\n",
      "True\n",
      "1\n"
     ]
    }
   ],
   "source": [
    "print('d' in basket)\n",
    "print('x' in basket)\n",
    "print('i' in 'hi my name is Ian')\n",
    "print(basket.count('d'))"
   ]
  },
  {
   "cell_type": "markdown",
   "id": "2c14dea1",
   "metadata": {},
   "source": [
    "## List Methods 3\n",
    "A continuation of list methods, in which we'll look at sorting and reversing the order of the items in a list."
   ]
  },
  {
   "cell_type": "code",
   "execution_count": 63,
   "id": "05a8d266",
   "metadata": {},
   "outputs": [
    {
     "name": "stdout",
     "output_type": "stream",
     "text": [
      "['a', 'b', 'x', 'c', 'd', 'e', 'd']\n"
     ]
    }
   ],
   "source": [
    "basket.append('d')\n",
    "basket.insert(2, 'x')\n",
    "print(basket)"
   ]
  },
  {
   "cell_type": "code",
   "execution_count": 64,
   "id": "806f9334",
   "metadata": {},
   "outputs": [
    {
     "name": "stdout",
     "output_type": "stream",
     "text": [
      "['a', 'b', 'c', 'd', 'd', 'e', 'x']\n"
     ]
    }
   ],
   "source": [
    "basket.sort()\n",
    "print(basket)"
   ]
  },
  {
   "cell_type": "markdown",
   "id": "ecf8612f",
   "metadata": {},
   "source": [
    "We can also use sorted(basket) if we want to produce a new list without modifying the existing one. It creates a new copy of the list as with list slicing.\n",
    "\n",
    "If we want to do the opposite of sort, we can use the reverse() method. It's a good idea to sort first, however, otherwise the reverse() method may not work as expected."
   ]
  },
  {
   "cell_type": "code",
   "execution_count": 68,
   "id": "fcb09c53",
   "metadata": {},
   "outputs": [
    {
     "name": "stdout",
     "output_type": "stream",
     "text": [
      "['x', 'e', 'd', 'd', 'c', 'b', 'a']\n"
     ]
    }
   ],
   "source": [
    "basket.sort()\n",
    "basket.reverse()\n",
    "print(basket)"
   ]
  },
  {
   "cell_type": "markdown",
   "id": "1d8b24bf",
   "metadata": {},
   "source": [
    "## Common List Patterns\n",
    "Common list patterns in Python."
   ]
  }
 ],
 "metadata": {
  "kernelspec": {
   "display_name": "Python 3 (ipykernel)",
   "language": "python",
   "name": "python3"
  },
  "language_info": {
   "codemirror_mode": {
    "name": "ipython",
    "version": 3
   },
   "file_extension": ".py",
   "mimetype": "text/x-python",
   "name": "python",
   "nbconvert_exporter": "python",
   "pygments_lexer": "ipython3",
   "version": "3.8.11"
  }
 },
 "nbformat": 4,
 "nbformat_minor": 5
}
