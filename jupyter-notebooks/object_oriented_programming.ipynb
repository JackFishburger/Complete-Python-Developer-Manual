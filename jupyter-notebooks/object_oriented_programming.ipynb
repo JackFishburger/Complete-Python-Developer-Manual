{
 "cells": [
  {
   "cell_type": "markdown",
   "id": "fc4ce5e7",
   "metadata": {},
   "source": [
    "In the following sections, feel free to use either Repl.it or your own development enviornment as you code along with Andrei."
   ]
  },
  {
   "cell_type": "markdown",
   "id": "73134672",
   "metadata": {},
   "source": [
    "# Advanced Python: Object-Oriented Programming\n",
    "- What is OOP?\n",
    "- What is OOP? Part 2\n",
    "- Creating Our Own Objects\n",
    "- Attributes and Methods\n",
    "- __ init __\n",
    "- @classmethod and @staticmethod\n",
    "- Reviewing What We Know So Far\n",
    "- DEVELOPER FUNDAMENTALS V\n",
    "- Encapsulation\n",
    "- Abstraction\n",
    "- Private vs. Public Variables\n",
    "- Inheritance\n",
    "- Polymorphism\n",
    "- super()\n",
    "- Object Introspection\n",
    "- Dunder Methods\n",
    "- Multiple Inheritance\n",
    "- MRO - Method Resolution Order"
   ]
  },
  {
   "cell_type": "markdown",
   "id": "f2b6d8c1",
   "metadata": {},
   "source": [
    "## What is OOP?\n",
    "In this section, we'll discuss object-oriented programming: what it is and why it's such an important topic for us to become great developers.\n",
    "\n",
    "Everything in Python in an object. Run the code below in your Python environment and examine the output. Notice that everything is built with the \"class\" keyword. We're able to use different methods on our objects to perform some actions on them. Objects have methods and attributes that we can access with the dot method.\n",
    "\n",
    "Object-oriented programming is exciting because it allows us to go beyond the data types that Python gives us. Python becomes even more powerful when we create our own objects through the class keyword. We can create our own data types with our own attributes and methods.\n",
    "\n",
    "As we write larger programs and our code gets more complicated, OOP is a programming paradigm that allows us to structure our code in a way that's easier to extend and maintain."
   ]
  },
  {
   "cell_type": "code",
   "execution_count": 2,
   "id": "6a9c828a",
   "metadata": {},
   "outputs": [
    {
     "name": "stdout",
     "output_type": "stream",
     "text": [
      "<class 'NoneType'>\n",
      "<class 'bool'>\n",
      "<class 'int'>\n",
      "<class 'float'>\n",
      "<class 'str'>\n",
      "<class 'list'>\n",
      "<class 'tuple'>\n",
      "<class 'dict'>\n"
     ]
    }
   ],
   "source": [
    "print(type(None))\n",
    "print(type(True))\n",
    "print(type(5))\n",
    "print(type(5.5))\n",
    "print(type('hi'))\n",
    "print(type([]))\n",
    "print(type(()))\n",
    "print(type({}))"
   ]
  },
  {
   "cell_type": "markdown",
   "id": "ee8b9f30",
   "metadata": {},
   "source": [
    "## What is OOP? Part 2\n",
    "Programming started out as highly procedural. We can think of it as an explicit set of instructions. As programming has evolved, objects were introduced, as were methods and actions, so we can think in terms of models and blueprints. This gives us a better way to organize and run our programs. For more on how programming has evolved, check out [History of Programming Languages](https://en.wikipedia.org/wiki/History_of_programming_languages) on Wikipedia.\n",
    "\n",
    "Python can support OOP ideas, and we have seen that everything is an object because we use the \"class\" keyword. We can use this keyword to create our own objects. Convention is that objects in Python are capitalized and use camelCase, meaning that every new word starts with a capital letter."
   ]
  },
  {
   "cell_type": "code",
   "execution_count": 5,
   "id": "8ff45ba7",
   "metadata": {},
   "outputs": [
    {
     "name": "stdout",
     "output_type": "stream",
     "text": [
      "<class 'type'>\n"
     ]
    }
   ],
   "source": [
    "# Let's create our own object!\n",
    "class BigObject:\n",
    "    pass\n",
    "print(type(BigObject)) # <class 'type'>"
   ]
  },
  {
   "cell_type": "markdown",
   "id": "56294f50",
   "metadata": {},
   "source": [
    "A class is a blueprint of what we want to create. From this blueprint, we can create different objects, using our class as a building block. The class can be instantiated, that is, creating different instances of objects. We create a class or a blueprint. When we create obj1 below, we instantiate the class. We can save a lot of time this way, instead of coding everything from scratch.\n",
    "\n",
    "The blueprint BigObject() is stored in memory, and when we create new objects, we go to memory where BigObject() is and then run that code.\n",
    "\n",
    "The language of object-oriented programming can be difficult to understand at first, but as we work with these concepts, the language becomes more familiar."
   ]
  },
  {
   "cell_type": "code",
   "execution_count": 7,
   "id": "8cdfe130",
   "metadata": {
    "scrolled": true
   },
   "outputs": [
    {
     "name": "stdout",
     "output_type": "stream",
     "text": [
      "<class '__main__.BigObject'>\n"
     ]
    }
   ],
   "source": [
    "obj1 = BigObject() # instantiate\n",
    "print(type(obj1)) # <class '__main__.BigObject'>"
   ]
  },
  {
   "cell_type": "markdown",
   "id": "bbaf8f49",
   "metadata": {},
   "source": [
    "## Creating Our Own Objects\n",
    "Let's code our own class by mimicing conditions of building a game. \n",
    "\n",
    "The __ init __ method is a special method called a Dunder method, or a constructor method. It is automatically called every time we instantiate an object.\n",
    "\n",
    "Self refers to the PlayerCharacter. self.name will equal whatever the parameter is. In this case, we're going to give it the name parameter of \"Cindy\". \"self\" refers to whatever is left of the dot. We can create different objects with different attributes, such as name, age, etc.\n",
    "\n",
    "Don't worry if the syntax looks confusing at first."
   ]
  },
  {
   "cell_type": "code",
   "execution_count": 44,
   "id": "2fbfe66e",
   "metadata": {},
   "outputs": [
    {
     "name": "stdout",
     "output_type": "stream",
     "text": [
      "<__main__.PlayerCharacter object at 0x7fb5ac7d1f10>\n",
      "44\n",
      "My name is Cindy\n",
      "done\n"
     ]
    }
   ],
   "source": [
    "# Note that player1 and player2 are at different locations in memory.\n",
    "class PlayerCharacter:\n",
    "    # Class Object Attribute\n",
    "    membership = True # static attribute - all players have this attribute set to True\n",
    "    def __init__(self, name, age):\n",
    "        # only assign name and age if the PlayerCharacter instance is a member\n",
    "        if(self.membership):\n",
    "            self.name = name # attribute\n",
    "            self.age = age # attribute\n",
    "    def shout(self):\n",
    "        print(f'My name is {self.name}')\n",
    "        return('done')\n",
    "    \n",
    "    @classmethod # see lecture on @classmethod and @staticmethod below\n",
    "    def adding_things(cls, num1, num2):\n",
    "        return cls(\"Teddy\", num1 + num2)\n",
    "    \n",
    "    @staticmethod\n",
    "    def adding_things2(num1, num2):\n",
    "        return num1 + num2\n",
    "        \n",
    "player1 = PlayerCharacter('Cindy', 44)\n",
    "print(player1)\n",
    "print(player1.age) # 44\n",
    "print(player1.shout()) # My name is Cindy done"
   ]
  },
  {
   "cell_type": "code",
   "execution_count": 37,
   "id": "59c11b84",
   "metadata": {},
   "outputs": [
    {
     "name": "stdout",
     "output_type": "stream",
     "text": [
      "<__main__.PlayerCharacter object at 0x7fb5ac7cc9d0>\n",
      "Tom\n",
      "True\n"
     ]
    }
   ],
   "source": [
    "player2 = PlayerCharacter('Tom', 21)\n",
    "print(player2)\n",
    "print(player2.name) # Tom\n",
    "print(player2.membership)"
   ]
  },
  {
   "cell_type": "markdown",
   "id": "2f3be17d",
   "metadata": {},
   "source": [
    "## Attributes and Methods\n",
    "Object-oriented programming allows us to create our own objects, attributes, and methods. It allows us to write repeatable, well-organized, memory-efficient code. We group data (attributes) with methods (actions) to mimic a real-world situation.\n",
    "\n",
    "The membership attribute in the example above doesn't change -- it is the same across instances of the class.\n",
    "\n",
    "Because the name and age attributes change across the instances, we cannot run PlayerCharacter.name or PlayerCharacter.age. We can only run them on specific instances. When we use those instances, we also need to reference self."
   ]
  },
  {
   "cell_type": "code",
   "execution_count": 38,
   "id": "8ed422d6",
   "metadata": {
    "scrolled": true
   },
   "outputs": [
    {
     "name": "stdout",
     "output_type": "stream",
     "text": [
      "Help on PlayerCharacter in module __main__ object:\n",
      "\n",
      "class PlayerCharacter(builtins.object)\n",
      " |  PlayerCharacter(name, age)\n",
      " |  \n",
      " |  Methods defined here:\n",
      " |  \n",
      " |  __init__(self, name, age)\n",
      " |      Initialize self.  See help(type(self)) for accurate signature.\n",
      " |  \n",
      " |  shout(self)\n",
      " |  \n",
      " |  ----------------------------------------------------------------------\n",
      " |  Class methods defined here:\n",
      " |  \n",
      " |  adding_things(num1, num2) from builtins.type\n",
      " |  \n",
      " |  ----------------------------------------------------------------------\n",
      " |  Data descriptors defined here:\n",
      " |  \n",
      " |  __dict__\n",
      " |      dictionary for instance variables (if defined)\n",
      " |  \n",
      " |  __weakref__\n",
      " |      list of weak references to the object (if defined)\n",
      " |  \n",
      " |  ----------------------------------------------------------------------\n",
      " |  Data and other attributes defined here:\n",
      " |  \n",
      " |  membership = True\n",
      "\n"
     ]
    }
   ],
   "source": [
    "# Running a function like help on an object will give us the entire blueprint.\n",
    "help(player1)"
   ]
  },
  {
   "cell_type": "markdown",
   "id": "e0332952",
   "metadata": {},
   "source": [
    "## __ init __\n",
    "The __ init __ gives us a lot of control. It initializes the object and assign values to new members of the class when the new objects are created.\n",
    "\n",
    "We can also give default parameters, such as def __ init __(self, name=\"anonymous\", age=0)."
   ]
  },
  {
   "cell_type": "markdown",
   "id": "3275ac88",
   "metadata": {},
   "source": [
    "## @classmethod and @staticmethod\n",
    "We can use a decorator to write functions. Instead of using self, we use cls. We can use this without instantiating a class. It's a method on the actual class. Most of our classes won't use a @classmethod, but we can use cls to instantiate an object.\n",
    "\n",
    "@staticmethod works the same way, but we don't have access to the cls. We can use this when we don't care about the attributes or the class state and don't need to modify them."
   ]
  },
  {
   "cell_type": "code",
   "execution_count": 45,
   "id": "da79d1ee",
   "metadata": {},
   "outputs": [],
   "source": [
    "@classmethod\n",
    "def adding_things(cls, num1, num2):\n",
    "    return cls(\"Teddy\", num1 + num2)\n",
    "\n",
    "@staticmethod\n",
    "def adding_things2(num1, num2):\n",
    "    return num1 + num2"
   ]
  },
  {
   "cell_type": "code",
   "execution_count": 46,
   "id": "497d7353",
   "metadata": {},
   "outputs": [
    {
     "name": "stdout",
     "output_type": "stream",
     "text": [
      "5\n"
     ]
    }
   ],
   "source": [
    "# Let's create a new player character using cls\n",
    "player3 = PlayerCharacter.adding_things(2,3)\n",
    "print(player3.age)"
   ]
  },
  {
   "cell_type": "markdown",
   "id": "6d884d97",
   "metadata": {},
   "source": [
    "## Reviewing What We Know So Far\n",
    "We use classes to incorporate object-oriented programming paradigms. We learned about class object attributes and methods and how __ init __ runs on every object to customize them. We also learned how to call methods on a class without instantiating it into an object.\n",
    "\n",
    "The idea of object-oriented programming requires some time to grasp. We'll continue to practice so we can start using this paradigm in our programs."
   ]
  },
  {
   "cell_type": "markdown",
   "id": "09525baa",
   "metadata": {},
   "source": [
    "## DEVELOPER FUNDAMENTALS V\n",
    "With programming, it's important to test our assumptions with code. For instance, when we learned about \"self\", we can try to return self from the run function above and see what happens. As you try things out in your Python environment, think about what you think will happen. Change a line of code, see what happens, and record your observations. The more you test things, the more you will learn."
   ]
  },
  {
   "cell_type": "markdown",
   "id": "08ab7862",
   "metadata": {},
   "source": [
    "The four pillars of object-oriented programming, which we will explore over the next several lectures, are:\n",
    "1. Inheritance\n",
    "2. Abstraction\n",
    "3. Encapsulation\n",
    "4. Polymorphism"
   ]
  },
  {
   "attachments": {},
   "cell_type": "markdown",
   "id": "02861e48",
   "metadata": {},
   "source": [
    "## Encapsulation\n",
    "When learning about object-oriented programming, there are four pillars -- four things that OOP does really well.\n",
    "\n",
    "Encapsulation is the binding of functions and data that we \"encapsulate\" into one big object that users, code, or other machines can interact with. Our PlayerCharacter class is one such example, in which we have grouped attributes and methods into a class. We have packaged these up as a blueprint and have functionality available to us.\n",
    "\n",
    "If we didn't need functionality, we could create a dictionary instead, so with the idea of OOP, we combine and package attributes and methods that mimic our world that is full of data and actions."
   ]
  },
  {
   "cell_type": "markdown",
   "id": "ed09abce",
   "metadata": {},
   "source": [
    "## Abstraction\n",
    "Abstration means hiding information and giving the programmer or user access only to what is necessary. In the example below, we are using abstraction when we use the len method. We receive access to the method, but we don't necessarily know the details around the inner workings of it. We just know that it works in a certain way and that we can use it."
   ]
  },
  {
   "cell_type": "code",
   "execution_count": 51,
   "id": "d09d428b",
   "metadata": {},
   "outputs": [
    {
     "name": "stdout",
     "output_type": "stream",
     "text": [
      "3\n"
     ]
    }
   ],
   "source": [
    "tup = (1,2,3)\n",
    "print(len(tup))"
   ]
  },
  {
   "cell_type": "markdown",
   "id": "0a18287a",
   "metadata": {},
   "source": [
    "## Private vs. Public Variables\n",
    "With each data type, we have a number of dunder methods. They're there to let us know not to overwrite them. A private field is important in Python. Even though we can overwrite things, it's bad practice. By using private attributes, we can abstract things away and ensure that the user isn't going to break our code."
   ]
  },
  {
   "cell_type": "markdown",
   "id": "01c484f4",
   "metadata": {},
   "source": [
    "## Inheritance\n",
    "Inheritance allows new objects to take on the properties of existing objects. They can inherit classes.\n",
    "\n",
    "If we don't have attributes we want to assign to a user, we don't need the __ init __ method.\n",
    "\n",
    "In the example below, we are going to give all of our users access to the sign_in method since they all need to be signed in to play the game, so we'll pass the User class to them.\n",
    "\n",
    "The idea is that we have a parent class (User) and child classes (Wizard and Archer). Sometimes child classes are called subclasses or derived classes."
   ]
  },
  {
   "cell_type": "code",
   "execution_count": 71,
   "id": "96d28ccd",
   "metadata": {},
   "outputs": [
    {
     "name": "stdout",
     "output_type": "stream",
     "text": [
      "Attacking with the power of fire.\n",
      "None\n",
      "Attacking with arrows: arrows left - 100\n",
      "None\n"
     ]
    }
   ],
   "source": [
    "# Let's create a new game with different types of users that can be wizzards, archers, ogres, etc.\n",
    "# We want to give all of our users \n",
    "class User:\n",
    "    def sign_in(self):\n",
    "        print('logged in')\n",
    "\n",
    "class Wizzard(User):\n",
    "    def __init__(self, name, power):\n",
    "        self.name = name\n",
    "        self.power = power\n",
    "        \n",
    "    def attack(self):\n",
    "        print(f'Attacking with the power of {self.power}.')\n",
    "\n",
    "class Archer(User):\n",
    "    def __init__(self, name, num_arrows):\n",
    "        self.name = name\n",
    "        self.num_arrows = num_arrows\n",
    "        \n",
    "    def attack(self):\n",
    "        print(f'Attacking with arrows: arrows left - {self.num_arrows}')\n",
    "\n",
    "wizard1 = Wizzard('Merlin', 'fire')\n",
    "archer1 = Archer('Robin', 100)\n",
    "print(wizard1.attack())\n",
    "print(archer1.attack())"
   ]
  },
  {
   "cell_type": "markdown",
   "id": "f95ba6c0",
   "metadata": {},
   "source": [
    "## Inheritance 2"
   ]
  },
  {
   "cell_type": "markdown",
   "id": "c3bfef72",
   "metadata": {},
   "source": [
    "## Polymorphism"
   ]
  },
  {
   "cell_type": "markdown",
   "id": "c4a367be",
   "metadata": {},
   "source": [
    "## super()"
   ]
  },
  {
   "cell_type": "markdown",
   "id": "29477e98",
   "metadata": {},
   "source": [
    "## Object Introspection"
   ]
  },
  {
   "cell_type": "markdown",
   "id": "f1b7c071",
   "metadata": {},
   "source": [
    "## Dunder Methods"
   ]
  },
  {
   "cell_type": "markdown",
   "id": "0cfd2faf",
   "metadata": {},
   "source": [
    "## Multiple Inheritance"
   ]
  },
  {
   "cell_type": "markdown",
   "id": "185261bd",
   "metadata": {},
   "source": [
    "## MRO - Method Resolution Order"
   ]
  },
  {
   "cell_type": "code",
   "execution_count": null,
   "id": "b13c57ce",
   "metadata": {},
   "outputs": [],
   "source": []
  }
 ],
 "metadata": {
  "kernelspec": {
   "display_name": "Python 3 (ipykernel)",
   "language": "python",
   "name": "python3"
  },
  "language_info": {
   "codemirror_mode": {
    "name": "ipython",
    "version": 3
   },
   "file_extension": ".py",
   "mimetype": "text/x-python",
   "name": "python",
   "nbconvert_exporter": "python",
   "pygments_lexer": "ipython3",
   "version": "3.8.11"
  }
 },
 "nbformat": 4,
 "nbformat_minor": 5
}
