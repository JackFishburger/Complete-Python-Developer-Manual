{
 "cells": [
  {
   "cell_type": "markdown",
   "id": "fc4ce5e7",
   "metadata": {},
   "source": [
    "In the following sections, feel free to use either Repl.it or your own development enviornment as you code along with Andrei."
   ]
  },
  {
   "cell_type": "markdown",
   "id": "73134672",
   "metadata": {},
   "source": [
    "# Advanced Python: Object-Oriented Programming\n",
    "- What is OOP?\n",
    "- What is OOP? Part 2\n",
    "- Creating Our Own Objects\n",
    "- Attributes and Methods\n",
    "- __init__\n",
    "- @classmethod and @staticmethod\n",
    "- Reviewing What We Know So Far\n",
    "- DEVELOPER FUNDAMENTALS V\n",
    "- Encapsulation\n",
    "- Abstraction\n",
    "- Private vs. Public Variables\n",
    "- Inheritance\n",
    "- Polymorphism\n",
    "- super()\n",
    "- Object Introspection\n",
    "- Dunder Methods\n",
    "- Multiple Inheritance\n",
    "- MRO - Method Resolution Order"
   ]
  },
  {
   "cell_type": "code",
   "execution_count": null,
   "id": "8b615ca4",
   "metadata": {},
   "outputs": [],
   "source": []
  }
 ],
 "metadata": {
  "kernelspec": {
   "display_name": "Python 3 (ipykernel)",
   "language": "python",
   "name": "python3"
  },
  "language_info": {
   "codemirror_mode": {
    "name": "ipython",
    "version": 3
   },
   "file_extension": ".py",
   "mimetype": "text/x-python",
   "name": "python",
   "nbconvert_exporter": "python",
   "pygments_lexer": "ipython3",
   "version": "3.8.11"
  }
 },
 "nbformat": 4,
 "nbformat_minor": 5
}
